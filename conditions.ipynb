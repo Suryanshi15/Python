{
 "cells": [
  {
   "cell_type": "code",
   "execution_count": 7,
   "metadata": {},
   "outputs": [
    {
     "name": "stdout",
     "output_type": "stream",
     "text": [
      "A\n",
      "B\n"
     ]
    }
   ],
   "source": [
    "marks =int(input(\"Enter your marks: \"))\n",
    "if marks >= 90:\n",
    "    print('A+')\n",
    "if marks >=75:\n",
    "        print('A')\n",
    "if marks >=60:\n",
    "        print('B')  \n",
    "if marks <60 :\n",
    "        print('Fail')      \n"
   ]
  },
  {
   "cell_type": "code",
   "execution_count": 19,
   "metadata": {},
   "outputs": [
    {
     "name": "stdout",
     "output_type": "stream",
     "text": [
      "A\n"
     ]
    }
   ],
   "source": [
    "marks =int(input(\"Enter your marks: \"))\n",
    "if marks >= 90:\n",
    "    print('A+')\n",
    "elif marks >=75:\n",
    "        print('A')\n",
    "elif marks >=60:\n",
    "        print('B')  \n",
    "elif marks <60 :\n",
    "        print('Fail')\n",
    "else: \n",
    "       print('Invalid input')              \n"
   ]
  },
  {
   "cell_type": "code",
   "execution_count": 21,
   "metadata": {},
   "outputs": [
    {
     "name": "stdout",
     "output_type": "stream",
     "text": [
      "You are not eligible to vote\n"
     ]
    }
   ],
   "source": [
    "age = int(input(\"Enter your age:\"))\n",
    "if age >= 18:\n",
    "    print('You are eligible to vote')\n",
    "else:\n",
    "    print('You are not eligible to vote')    \n"
   ]
  },
  {
   "cell_type": "code",
   "execution_count": 23,
   "metadata": {},
   "outputs": [
    {
     "name": "stdout",
     "output_type": "stream",
     "text": [
      "the value  is negative\n"
     ]
    }
   ],
   "source": [
    "number = int(input('Enter the number: '))\n",
    "if number >0:\n",
    "    print('the value is positive')\n",
    "else:\n",
    "    print('the value  is negative')\n",
    "\n"
   ]
  },
  {
   "cell_type": "code",
   "execution_count": 26,
   "metadata": {},
   "outputs": [
    {
     "name": "stdout",
     "output_type": "stream",
     "text": [
      "the number is odd\n"
     ]
    }
   ],
   "source": [
    "number = int(input('Enter the number: '))\n",
    "if number % 2 == 0 :\n",
    "    print('the number is even')\n",
    "else:\n",
    "    print('the number is odd')"
   ]
  },
  {
   "cell_type": "code",
   "execution_count": null,
   "metadata": {},
   "outputs": [
    {
     "name": "stdout",
     "output_type": "stream",
     "text": [
      "not vowels\n"
     ]
    }
   ],
   "source": [
    "char = input('enter a character:')\n",
    "if char in 'aeiouAEIOU':\n",
    "   print('vowels')\n",
    "else:\n",
    "   print('not vowels')"
   ]
  },
  {
   "cell_type": "code",
   "execution_count": 30,
   "metadata": {},
   "outputs": [
    {
     "name": "stdout",
     "output_type": "stream",
     "text": [
      "Isosceles triangle\n"
     ]
    }
   ],
   "source": [
    "s1 = 20\n",
    "s2 = 15\n",
    "s3 = 20\n",
    "if s1 == s2 == s3:\n",
    "    print('Equilateral triangle')\n",
    "elif s1 == s2 or s2 == s3 or s1 == s3:\n",
    "    print('Isosceles triangle')\n",
    "else:\n",
    "    print('Scalene triangle')        "
   ]
  },
  {
   "cell_type": "code",
   "execution_count": 5,
   "metadata": {},
   "outputs": [
    {
     "name": "stdout",
     "output_type": "stream",
     "text": [
      "Password must be between 8 and 15 characters\n"
     ]
    }
   ],
   "source": [
    "username = input(\"Enter your username\")\n",
    "email = input(\"Enter your email:\")\n",
    "password = input(\"Enter your password: \")\n",
    "cpass = input(\"Enter your confirm password: \")\n",
    "if len(username)>5 and len(username)<15:\n",
    "    if '@' in email and len(email)>10:\n",
    "        if len(password)>8 and len(password)<15:\n",
    "            if password == cpass:\n",
    "                print('Registration successful')\n",
    "            else:\n",
    "                print('Password does not match')\n",
    "        else:\n",
    "            print('Password must be between 8 and 15 characters')\n",
    "    else:\n",
    "        print('Invalid email')\n",
    "else:\n",
    "    print('Invalid username')    \n",
    "\n"
   ]
  },
  {
   "cell_type": "code",
   "execution_count": null,
   "metadata": {},
   "outputs": [],
   "source": []
  }
 ],
 "metadata": {
  "kernelspec": {
   "display_name": "base",
   "language": "python",
   "name": "python3"
  },
  "language_info": {
   "codemirror_mode": {
    "name": "ipython",
    "version": 3
   },
   "file_extension": ".py",
   "mimetype": "text/x-python",
   "name": "python",
   "nbconvert_exporter": "python",
   "pygments_lexer": "ipython3",
   "version": "3.12.7"
  }
 },
 "nbformat": 4,
 "nbformat_minor": 2
}
