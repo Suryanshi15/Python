{
 "cells": [
  {
   "cell_type": "code",
   "execution_count": 1,
   "metadata": {},
   "outputs": [
    {
     "name": "stdout",
     "output_type": "stream",
     "text": [
      "{'name': 'john', 'age': 10, 'class': 7, 'marks': 75}\n"
     ]
    }
   ],
   "source": [
    "student = {\n",
    "    'name' : 'john',\n",
    "    'age' : 10,\n",
    "    'class' : 7, \n",
    "    'marks' : 75\n",
    "}\n",
    "print(student)"
   ]
  },
  {
   "cell_type": "markdown",
   "metadata": {},
   "source": [
    "how to declare it in different ways\n",
    "-how to access key and value pairs\n",
    "-how to use loops in dictionary\n",
    "-indexing in dictionary"
   ]
  },
  {
   "cell_type": "code",
   "execution_count": 2,
   "metadata": {},
   "outputs": [
    {
     "name": "stdout",
     "output_type": "stream",
     "text": [
      "{'lucknow': [25, 30, 35], 'delhi': [20, 25, 30], 'mumbai': [30, 35, 40]}\n"
     ]
    }
   ],
   "source": [
    "temp = {\n",
    "    'lucknow' : [25,30,35],\n",
    "    'delhi' : [20,25,30],\n",
    "    'mumbai' : [30,35,40]\n",
    "}\n",
    "print(temp)"
   ]
  },
  {
   "cell_type": "code",
   "execution_count": 3,
   "metadata": {},
   "outputs": [
    {
     "name": "stdout",
     "output_type": "stream",
     "text": [
      "{'name': 'John', 'age': 19, 'standard': '12th'}\n"
     ]
    }
   ],
   "source": [
    "info =dict (name = \"John\", age = 19, standard = '12th')\n",
    "print(info)"
   ]
  },
  {
   "cell_type": "code",
   "execution_count": 5,
   "metadata": {},
   "outputs": [
    {
     "name": "stdout",
     "output_type": "stream",
     "text": [
      "John\n",
      "19\n"
     ]
    }
   ],
   "source": [
    "print(info['name'])\n",
    "print(info['age'])"
   ]
  },
  {
   "cell_type": "code",
   "execution_count": 7,
   "metadata": {},
   "outputs": [
    {
     "name": "stdout",
     "output_type": "stream",
     "text": [
      "John\n"
     ]
    }
   ],
   "source": [
    "#2nd method to access value using get() method\n",
    "print(info.get('name'))"
   ]
  },
  {
   "cell_type": "code",
   "execution_count": 8,
   "metadata": {},
   "outputs": [
    {
     "name": "stdout",
     "output_type": "stream",
     "text": [
      "{'name': 'John', 'age': 19, 'standard': '12th', 'city': 'Lucknow'}\n"
     ]
    }
   ],
   "source": [
    "#to add items in dictionary\n",
    "info['city'] = 'Lucknow'\n",
    "print(info)"
   ]
  },
  {
   "cell_type": "code",
   "execution_count": 9,
   "metadata": {},
   "outputs": [
    {
     "name": "stdout",
     "output_type": "stream",
     "text": [
      "{'name': 'John', 'age': 19, 'standard': '12th', 'city': 'Lucknow', 'school': 'CMS'}\n"
     ]
    }
   ],
   "source": [
    "info['school'] = 'CMS'\n",
    "print(info)"
   ]
  },
  {
   "cell_type": "code",
   "execution_count": 10,
   "metadata": {},
   "outputs": [
    {
     "name": "stdout",
     "output_type": "stream",
     "text": [
      "dict_keys(['name', 'age', 'class', 'marks'])\n",
      "dict_values(['john', 10, 7, 75])\n",
      "dict_items([('name', 'john'), ('age', 10), ('class', 7), ('marks', 75)])\n"
     ]
    }
   ],
   "source": [
    "print(student.keys())\n",
    "print(student.values())\n",
    "print(student.items())"
   ]
  },
  {
   "cell_type": "code",
   "execution_count": null,
   "metadata": {},
   "outputs": [
    {
     "name": "stdout",
     "output_type": "stream",
     "text": [
      "name\n",
      "age\n",
      "standard\n",
      "city\n",
      "school\n"
     ]
    }
   ],
   "source": [
    "for x,y in info.items():\n",
    "    print(f)"
   ]
  },
  {
   "cell_type": "code",
   "execution_count": 14,
   "metadata": {},
   "outputs": [
    {
     "name": "stdout",
     "output_type": "stream",
     "text": [
      "the sum of 4 and is 6\n",
      "the sum of 4 and 2is 6\n"
     ]
    }
   ],
   "source": [
    "a = 4\n",
    "b = 2\n",
    "print(\"the sum of\",a,\"and\",\"is\",a+b)\n",
    "print(f\"the sum of {a} and {b}is {a+b}\")"
   ]
  },
  {
   "cell_type": "code",
   "execution_count": 15,
   "metadata": {},
   "outputs": [
    {
     "name": "stdout",
     "output_type": "stream",
     "text": [
      "{'emp001': {'name': 'John', 'age': 25, 'designation': 'Manager'}, 'emp002': {'name': 'Harry', 'age': 22, 'designation': 'Developer'}, 'emp003': {'name': 'Sam', 'age': 30, 'designation': 'HR'}}\n"
     ]
    }
   ],
   "source": [
    "company = {\n",
    "    'emp001' : {\n",
    "        'name' : 'John',\n",
    "        'age' :  25,\n",
    "        'designation' : 'Manager'\n",
    "    },\n",
    "    'emp002' : {\n",
    "        'name' : 'Harry',\n",
    "        'age' :  22,\n",
    "        'designation' : 'Developer'\n",
    "\n",
    "    },\n",
    "    'emp003' : {\n",
    "        'name' : 'Sam',\n",
    "        'age' :  30,\n",
    "        'designation' : 'HR'\n",
    "    }\n",
    "}\n",
    "print(company)"
   ]
  },
  {
   "cell_type": "code",
   "execution_count": 16,
   "metadata": {},
   "outputs": [],
   "source": [
    "from pprint import pprint"
   ]
  },
  {
   "cell_type": "code",
   "execution_count": 17,
   "metadata": {},
   "outputs": [
    {
     "name": "stdout",
     "output_type": "stream",
     "text": [
      "{'emp001': {'age': 25, 'designation': 'Manager', 'name': 'John'},\n",
      " 'emp002': {'age': 22, 'designation': 'Developer', 'name': 'Harry'},\n",
      " 'emp003': {'age': 30, 'designation': 'HR', 'name': 'Sam'}}\n"
     ]
    }
   ],
   "source": [
    "pprint(company)"
   ]
  },
  {
   "cell_type": "code",
   "execution_count": 18,
   "metadata": {},
   "outputs": [
    {
     "data": {
      "text/plain": [
       "'Harry'"
      ]
     },
     "execution_count": 18,
     "metadata": {},
     "output_type": "execute_result"
    }
   ],
   "source": [
    "company['emp002']['name']"
   ]
  },
  {
   "cell_type": "code",
   "execution_count": 19,
   "metadata": {},
   "outputs": [
    {
     "name": "stdout",
     "output_type": "stream",
     "text": [
      "25\n"
     ]
    }
   ],
   "source": [
    "print(temp['lucknow'][0])"
   ]
  },
  {
   "cell_type": "code",
   "execution_count": 20,
   "metadata": {},
   "outputs": [
    {
     "name": "stdout",
     "output_type": "stream",
     "text": [
      "The average temperature is: 30.0\n"
     ]
    }
   ],
   "source": [
    "temperatures = [25,30,35]\n",
    "average_temperature = sum(temperatures) / len(temperatures)\n",
    "print(\"The average temperature is:\", average_temperature)\n",
    "\n"
   ]
  }
 ],
 "metadata": {
  "kernelspec": {
   "display_name": "base",
   "language": "python",
   "name": "python3"
  },
  "language_info": {
   "codemirror_mode": {
    "name": "ipython",
    "version": 3
   },
   "file_extension": ".py",
   "mimetype": "text/x-python",
   "name": "python",
   "nbconvert_exporter": "python",
   "pygments_lexer": "ipython3",
   "version": "3.12.7"
  }
 },
 "nbformat": 4,
 "nbformat_minor": 2
}
