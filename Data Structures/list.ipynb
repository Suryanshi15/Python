{
 "cells": [
  {
   "cell_type": "code",
   "execution_count": 12,
   "metadata": {},
   "outputs": [
    {
     "name": "stdout",
     "output_type": "stream",
     "text": [
      "swiggy\n",
      "zomato\n",
      "flipkart\n",
      "amazon\n",
      "myntra\n",
      "urbanic\n",
      "zepto\n",
      "savana\n",
      "instagram\n",
      "nykaa\n"
     ]
    }
   ],
   "source": [
    "app = [\"swiggy\",\"zomato\",\"flipkart\",\"amazon\",\"myntra\",\"urbanic\",\"zepto\",\"savana\",\"instagram\",\"nykaa\"]\n",
    "for (i) in app :\n",
    "    print(i)\n"
   ]
  },
  {
   "cell_type": "code",
   "execution_count": 13,
   "metadata": {},
   "outputs": [
    {
     "name": "stdout",
     "output_type": "stream",
     "text": [
      "['swiggy', 'zomato', 'flipkart', 'amazon', 'myntra', 'urbanic', 'zepto', 'savana', 'instagram', 'nykaa']\n"
     ]
    }
   ],
   "source": [
    "app = [\"swiggy\",\"zomato\",\"flipkart\",\"amazon\",\"myntra\",\"urbanic\",\"zepto\",\"savana\",\"instagram\",\"nykaa\"]\n",
    "print (app)"
   ]
  },
  {
   "cell_type": "code",
   "execution_count": 14,
   "metadata": {},
   "outputs": [
    {
     "name": "stdout",
     "output_type": "stream",
     "text": [
      "swiggy*zomato*flipkart*amazon*myntra*urbanic*zepto*savana*instagram*nykaa*"
     ]
    }
   ],
   "source": [
    "for i in app:\n",
    "    print(i, end=\"*\")"
   ]
  },
  {
   "cell_type": "code",
   "execution_count": 15,
   "metadata": {},
   "outputs": [
    {
     "name": "stdout",
     "output_type": "stream",
     "text": [
      "zepto\n"
     ]
    }
   ],
   "source": [
    "print(app[6])"
   ]
  },
  {
   "cell_type": "code",
   "execution_count": 16,
   "metadata": {},
   "outputs": [
    {
     "name": "stdout",
     "output_type": "stream",
     "text": [
      "urbanic\n"
     ]
    }
   ],
   "source": [
    "print(app[-5])"
   ]
  }
 ],
 "metadata": {
  "kernelspec": {
   "display_name": "base",
   "language": "python",
   "name": "python3"
  },
  "language_info": {
   "codemirror_mode": {
    "name": "ipython",
    "version": 3
   },
   "file_extension": ".py",
   "mimetype": "text/x-python",
   "name": "python",
   "nbconvert_exporter": "python",
   "pygments_lexer": "ipython3",
   "version": "3.12.7"
  }
 },
 "nbformat": 4,
 "nbformat_minor": 2
}
